{
 "cells": [
  {
   "cell_type": "code",
   "execution_count": 1,
   "metadata": {},
   "outputs": [],
   "source": [
    "import cv2\n",
    "import numpy as np\n",
    "import os"
   ]
  },
  {
   "cell_type": "code",
   "execution_count": 2,
   "metadata": {},
   "outputs": [],
   "source": [
    "cap = cv2.VideoCapture(0)"
   ]
  },
  {
   "cell_type": "code",
   "execution_count": 3,
   "metadata": {},
   "outputs": [],
   "source": [
    "counter = 0\n",
    "path = 'E:/OTODIK_FELEV/kepfeldolgozas/beadando_feladat/validation/nothing/'\n",
    "\n",
    "while(1):\n",
    "    try:\n",
    "        ret,frame = cap.read()\n",
    "        frame = cv2.flip(frame,1)\n",
    "        #adott regio ahol a kezet kell tartani\n",
    "        roi = frame[100:300,100:300]\n",
    "        #cv2.rectangle(image, start_point, end_point, color, thickness)\n",
    "        cv2.rectangle(frame,(100,100),(300,300),(0,255,0),0) #zöld négyzetet rajzolunk arra a helyre ahova  kezet kerjuk\n",
    "\n",
    "        #HSV színskála használata\n",
    "        #HSV színskála használata\n",
    "        hsv = cv2.cvtColor(roi,cv2.COLOR_BGR2HSV)\n",
    "\n",
    "        #a bőr színeinek szinmegfelelő hatarai, update majd\n",
    "        l_skin = np.array([0,20,70],dtype=np.uint8)\n",
    "        h_skin = np.array([20,255,255],dtype=np.uint8)\n",
    "        #adott bőr régio maszkolása\n",
    "        mask = cv2.inRange(hsv,l_skin,h_skin)\n",
    "        #a mask dilatációja, hogy ne legyenek fekete pontok\n",
    "        kernel = np.ones((3,3),np.uint8)\n",
    "        #3x3-as szűrőt használunk a dilatációra, négyszer iterálunk\n",
    "        mask = cv2.dilate(mask,kernel,iterations = 4)\n",
    "        #Gauss szűrővel pedig blureolunk a képen, hogy ne legyenek élesek a határok\n",
    "        mask = cv2.GaussianBlur(mask,(5,5),100)\n",
    "        cv2.imshow('frame',frame)\n",
    "        cv2.imshow('mask',mask)\n",
    "    except:\n",
    "        pass\n",
    "    k = cv2.waitKey(5) & 0xFF\n",
    "    if k==27:\n",
    "        break;\n",
    "    if k==50:\n",
    "        counter=counter+1\n",
    "        print(mask.shape)\n",
    "        cv2.imwrite(os.path.join(path , 'nothing_{}.png'.format(counter)),mask)\n",
    "cv2.destroyAllWindows()\n",
    "cap.release()\n"
   ]
  },
  {
   "cell_type": "code",
   "execution_count": null,
   "metadata": {},
   "outputs": [],
   "source": []
  }
 ],
 "metadata": {
  "kernelspec": {
   "display_name": "Python 3",
   "language": "python",
   "name": "python3"
  },
  "language_info": {
   "codemirror_mode": {
    "name": "ipython",
    "version": 3
   },
   "file_extension": ".py",
   "mimetype": "text/x-python",
   "name": "python",
   "nbconvert_exporter": "python",
   "pygments_lexer": "ipython3",
   "version": "3.7.1"
  }
 },
 "nbformat": 4,
 "nbformat_minor": 4
}
