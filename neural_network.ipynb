{
 "cells": [
  {
   "cell_type": "code",
   "execution_count": 30,
   "metadata": {},
   "outputs": [],
   "source": [
    "import tensorflow as tf\n",
    "import os\n",
    "import cv2\n",
    "import numpy as np\n",
    "import matplotlib.pyplot as plt"
   ]
  },
  {
   "cell_type": "code",
   "execution_count": 31,
   "metadata": {},
   "outputs": [],
   "source": [
    "from tensorflow.keras.preprocessing.image import ImageDataGenerator\n",
    "from tensorflow.keras.preprocessing import image\n",
    "from tensorflow.keras.models import Sequential\n",
    "from tensorflow.keras.layers import Conv2D, MaxPool2D, Flatten, Dense\n",
    "from sklearn.metrics import confusion_matrix\n",
    "from itertools import *\n",
    "from tensorflow.keras.optimizers import Adam\n",
    "from PIL import Image"
   ]
  },
  {
   "cell_type": "code",
   "execution_count": 32,
   "metadata": {},
   "outputs": [],
   "source": [
    "#training\n",
    "train = ImageDataGenerator(rescale=1/255)\n",
    "#validating\n",
    "validation = ImageDataGenerator(rescale=1/255)\n",
    "image_size = (200, 200)\n",
    "greyscale = (200,200,1)\n",
    "learning_rate = 0.001"
   ]
  },
  {
   "cell_type": "code",
   "execution_count": 33,
   "metadata": {},
   "outputs": [
    {
     "name": "stdout",
     "output_type": "stream",
     "text": [
      "Found 82 images belonging to 4 classes.\n",
      "Found 42 images belonging to 4 classes.\n"
     ]
    }
   ],
   "source": [
    "train_dataset = train.flow_from_directory('data_set/', target_size= image_size, batch_size=5, color_mode='grayscale', class_mode='categorical')\n",
    "\n",
    "validation_dataset = train.flow_from_directory('validation/', target_size= image_size, batch_size=2,color_mode='grayscale', class_mode='categorical') "
   ]
  },
  {
   "cell_type": "code",
   "execution_count": 34,
   "metadata": {},
   "outputs": [],
   "source": [
    " model = Sequential([\n",
    "    Conv2D(16, (3,3), activation = 'relu', padding=\"same\", input_shape= greyscale),\n",
    "    MaxPool2D(2,2),\n",
    "    Conv2D(32, (3,3), activation = 'relu', padding=\"same\"),\n",
    "    MaxPool2D(2,2),\n",
    "    Conv2D(64, (3,3), activation = 'relu', padding=\"same\"),\n",
    "    MaxPool2D(2,2),\n",
    "    Conv2D(128, (3,3), activation = 'relu', padding=\"same\"),\n",
    "    MaxPool2D(2,2),\n",
    "    Conv2D(256, (3,3), activation = 'relu', padding=\"same\"),\n",
    "    MaxPool2D(2,2),\n",
    "    Flatten(),#tömbösíti a matrixot\n",
    "    Dense(512, activation='relu'),\n",
    "    Dense(4,activation='softmax')    \n",
    "])"
   ]
  },
  {
   "cell_type": "code",
   "execution_count": 35,
   "metadata": {},
   "outputs": [],
   "source": [
    "optimizer = Adam(learning_rate = learning_rate)\n",
    "model.compile(loss='categorical_crossentropy', optimizer = optimizer, metrics =['accuracy'])"
   ]
  },
  {
   "cell_type": "code",
   "execution_count": 36,
   "metadata": {},
   "outputs": [
    {
     "name": "stdout",
     "output_type": "stream",
     "text": [
      "Epoch 1/30\n",
      "17/17 [==============================] - 4s 234ms/step - loss: 1.2349 - accuracy: 0.4634 - val_loss: 0.8615 - val_accuracy: 0.7381\n",
      "Epoch 2/30\n",
      "17/17 [==============================] - 4s 228ms/step - loss: 0.4629 - accuracy: 0.8171 - val_loss: 0.2097 - val_accuracy: 0.8810\n",
      "Epoch 3/30\n",
      "17/17 [==============================] - 4s 260ms/step - loss: 0.0794 - accuracy: 0.9634 - val_loss: 0.0507 - val_accuracy: 1.0000\n",
      "Epoch 4/30\n",
      "17/17 [==============================] - 4s 236ms/step - loss: 0.0312 - accuracy: 0.9878 - val_loss: 0.0148 - val_accuracy: 1.0000\n",
      "Epoch 5/30\n",
      "17/17 [==============================] - 4s 220ms/step - loss: 0.0808 - accuracy: 0.9634 - val_loss: 0.0529 - val_accuracy: 0.9762\n",
      "Epoch 6/30\n",
      "17/17 [==============================] - 4s 241ms/step - loss: 0.0035 - accuracy: 1.0000 - val_loss: 0.0417 - val_accuracy: 0.9762\n",
      "Epoch 7/30\n",
      "17/17 [==============================] - 4s 224ms/step - loss: 1.6618e-04 - accuracy: 1.0000 - val_loss: 0.1135 - val_accuracy: 0.9286\n",
      "Epoch 8/30\n",
      "17/17 [==============================] - 4s 241ms/step - loss: 1.3072e-04 - accuracy: 1.0000 - val_loss: 0.1228 - val_accuracy: 0.9286\n",
      "Epoch 9/30\n",
      "17/17 [==============================] - 4s 227ms/step - loss: 1.0032e-04 - accuracy: 1.0000 - val_loss: 0.1106 - val_accuracy: 0.9286\n",
      "Epoch 10/30\n",
      "17/17 [==============================] - 4s 226ms/step - loss: 6.6983e-05 - accuracy: 1.0000 - val_loss: 0.1059 - val_accuracy: 0.9286\n",
      "Epoch 11/30\n",
      "17/17 [==============================] - 4s 219ms/step - loss: 5.4120e-05 - accuracy: 1.0000 - val_loss: 0.0970 - val_accuracy: 0.9524\n",
      "Epoch 12/30\n",
      "17/17 [==============================] - 4s 217ms/step - loss: 3.9990e-05 - accuracy: 1.0000 - val_loss: 0.0892 - val_accuracy: 0.9524\n",
      "Epoch 13/30\n",
      "17/17 [==============================] - 4s 253ms/step - loss: 3.1222e-05 - accuracy: 1.0000 - val_loss: 0.0845 - val_accuracy: 0.9524\n",
      "Epoch 14/30\n",
      "17/17 [==============================] - 4s 225ms/step - loss: 2.5674e-05 - accuracy: 1.0000 - val_loss: 0.0813 - val_accuracy: 0.9524\n",
      "Epoch 15/30\n",
      "17/17 [==============================] - 4s 221ms/step - loss: 2.1383e-05 - accuracy: 1.0000 - val_loss: 0.0789 - val_accuracy: 0.9524\n",
      "Epoch 16/30\n",
      "17/17 [==============================] - 4s 221ms/step - loss: 1.8085e-05 - accuracy: 1.0000 - val_loss: 0.0767 - val_accuracy: 0.9524\n",
      "Epoch 17/30\n",
      "17/17 [==============================] - 4s 220ms/step - loss: 1.5616e-05 - accuracy: 1.0000 - val_loss: 0.0760 - val_accuracy: 0.9524\n",
      "Epoch 18/30\n",
      "17/17 [==============================] - 4s 243ms/step - loss: 1.3530e-05 - accuracy: 1.0000 - val_loss: 0.0729 - val_accuracy: 0.9524\n",
      "Epoch 19/30\n",
      "17/17 [==============================] - 4s 228ms/step - loss: 1.1691e-05 - accuracy: 1.0000 - val_loss: 0.0691 - val_accuracy: 0.9524\n",
      "Epoch 20/30\n",
      "17/17 [==============================] - 4s 225ms/step - loss: 1.0364e-05 - accuracy: 1.0000 - val_loss: 0.0680 - val_accuracy: 0.9762\n",
      "Epoch 21/30\n",
      "17/17 [==============================] - 4s 217ms/step - loss: 9.1425e-06 - accuracy: 1.0000 - val_loss: 0.0639 - val_accuracy: 0.9762\n",
      "Epoch 22/30\n",
      "17/17 [==============================] - 4s 220ms/step - loss: 8.1191e-06 - accuracy: 1.0000 - val_loss: 0.0626 - val_accuracy: 0.9762\n",
      "Epoch 23/30\n",
      "17/17 [==============================] - 4s 218ms/step - loss: 7.2353e-06 - accuracy: 1.0000 - val_loss: 0.0613 - val_accuracy: 0.9762\n",
      "Epoch 24/30\n",
      "17/17 [==============================] - 4s 222ms/step - loss: 6.5927e-06 - accuracy: 1.0000 - val_loss: 0.0598 - val_accuracy: 0.9762\n",
      "Epoch 25/30\n",
      "17/17 [==============================] - 4s 220ms/step - loss: 6.0112e-06 - accuracy: 1.0000 - val_loss: 0.0578 - val_accuracy: 0.9762\n",
      "Epoch 26/30\n",
      "17/17 [==============================] - 4s 217ms/step - loss: 5.4603e-06 - accuracy: 1.0000 - val_loss: 0.0553 - val_accuracy: 0.9762\n",
      "Epoch 27/30\n",
      "17/17 [==============================] - 4s 225ms/step - loss: 4.9849e-06 - accuracy: 1.0000 - val_loss: 0.0538 - val_accuracy: 0.9762\n",
      "Epoch 28/30\n",
      "17/17 [==============================] - 4s 218ms/step - loss: 4.5779e-06 - accuracy: 1.0000 - val_loss: 0.0528 - val_accuracy: 0.9762\n",
      "Epoch 29/30\n",
      "17/17 [==============================] - 4s 238ms/step - loss: 4.2435e-06 - accuracy: 1.0000 - val_loss: 0.0520 - val_accuracy: 0.9762\n",
      "Epoch 30/30\n",
      "17/17 [==============================] - 4s 251ms/step - loss: 3.8699e-06 - accuracy: 1.0000 - val_loss: 0.0504 - val_accuracy: 0.9762\n"
     ]
    }
   ],
   "source": [
    "model_fit = model.fit(train_dataset, steps_per_epoch = None, epochs=30, validation_data=validation_dataset) "
   ]
  },
  {
   "cell_type": "code",
   "execution_count": 37,
   "metadata": {},
   "outputs": [],
   "source": [
    "model.save(\"hand_gesture_classification6.h5\") "
   ]
  },
  {
   "cell_type": "code",
   "execution_count": 38,
   "metadata": {},
   "outputs": [
    {
     "name": "stdout",
     "output_type": "stream",
     "text": [
      "Model: \"sequential_4\"\n",
      "_________________________________________________________________\n",
      "Layer (type)                 Output Shape              Param #   \n",
      "=================================================================\n",
      "conv2d_17 (Conv2D)           (None, 200, 200, 16)      160       \n",
      "_________________________________________________________________\n",
      "max_pooling2d_17 (MaxPooling (None, 100, 100, 16)      0         \n",
      "_________________________________________________________________\n",
      "conv2d_18 (Conv2D)           (None, 100, 100, 32)      4640      \n",
      "_________________________________________________________________\n",
      "max_pooling2d_18 (MaxPooling (None, 50, 50, 32)        0         \n",
      "_________________________________________________________________\n",
      "conv2d_19 (Conv2D)           (None, 50, 50, 64)        18496     \n",
      "_________________________________________________________________\n",
      "max_pooling2d_19 (MaxPooling (None, 25, 25, 64)        0         \n",
      "_________________________________________________________________\n",
      "conv2d_20 (Conv2D)           (None, 25, 25, 128)       73856     \n",
      "_________________________________________________________________\n",
      "max_pooling2d_20 (MaxPooling (None, 12, 12, 128)       0         \n",
      "_________________________________________________________________\n",
      "conv2d_21 (Conv2D)           (None, 12, 12, 256)       295168    \n",
      "_________________________________________________________________\n",
      "max_pooling2d_21 (MaxPooling (None, 6, 6, 256)         0         \n",
      "_________________________________________________________________\n",
      "flatten_4 (Flatten)          (None, 9216)              0         \n",
      "_________________________________________________________________\n",
      "dense_8 (Dense)              (None, 512)               4719104   \n",
      "_________________________________________________________________\n",
      "dense_9 (Dense)              (None, 4)                 2052      \n",
      "=================================================================\n",
      "Total params: 5,113,476\n",
      "Trainable params: 5,113,476\n",
      "Non-trainable params: 0\n",
      "_________________________________________________________________\n"
     ]
    }
   ],
   "source": [
    "model.summary()"
   ]
  },
  {
   "cell_type": "code",
   "execution_count": null,
   "metadata": {},
   "outputs": [],
   "source": []
  }
 ],
 "metadata": {
  "kernelspec": {
   "display_name": "Python 3",
   "language": "python",
   "name": "python3"
  },
  "language_info": {
   "codemirror_mode": {
    "name": "ipython",
    "version": 3
   },
   "file_extension": ".py",
   "mimetype": "text/x-python",
   "name": "python",
   "nbconvert_exporter": "python",
   "pygments_lexer": "ipython3",
   "version": "3.7.1"
  }
 },
 "nbformat": 4,
 "nbformat_minor": 4
}
